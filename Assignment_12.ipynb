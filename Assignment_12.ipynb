{
 "cells": [
  {
   "cell_type": "code",
   "execution_count": 2,
   "metadata": {},
   "outputs": [],
   "source": [
    "# I decided to treat this as a classification problem by creating a new binary variable affair\n",
    "# (did the woman have at least one affair?) and trying to predict the classification for each\n",
    "# woman.\n",
    "\n",
    "# Dataset\n",
    "\n",
    "# The dataset I chose is the affairs dataset that comes with Statsmodels. It was derived\n",
    "# from a survey of women in 1974 by Redbook magazine, in which married women were\n",
    "# asked about their participation in extramarital affairs. More information about the study\n",
    "# is available in a 1978 paper from the Journal of Political Economy.\n",
    "\n",
    "# Description of Variables\n",
    "# The dataset contains 6366 observations of 9 variables:\n",
    "# rate_marriage: woman's rating of her marriage (1 = very poor, 5 = very good)\n",
    "# age: woman's age\n",
    "# yrs_married: number of years married\n",
    "# children: number of children\n",
    "# religious: woman's rating of how religious she is (1 = not religious, 4 = strongly religious)\n",
    "# educ: level of education (9 = grade school, 12 = high school, 14 = some college, 16 = # college graduate, 17 = some graduate school, 20 = advanced degree)\n",
    "# occupation: woman's occupation (1 = student, 2 = farming/semi-skilled/unskilled, 3 = \"white collar\", # 4 = teacher/nurse/writer/technician/skilled, 5 = managerial/business, 6 = professional with advanced degree)\n",
    "# occupation_husb: husband's occupation (same coding as above)\n",
    "# affairs: time spent in extra-marital affairs\n",
    "\n",
    "# Code to loading data and modules\n",
    "import numpy as np\n",
    "import pandas as pd\n",
    "import statsmodels.api as sm\n",
    "import matplotlib.pyplot as plt\n",
    "from patsy import dmatrices\n",
    "from sklearn.linear_model import LogisticRegression\n",
    "from sklearn.model_selection import train_test_split\n",
    "from sklearn import metrics\n",
    "from sklearn.model_selection  import cross_val_score\n",
    "dta = sm.datasets.fair.load_pandas().data"
   ]
  },
  {
   "cell_type": "code",
   "execution_count": 3,
   "metadata": {},
   "outputs": [
    {
     "data": {
      "text/html": [
       "<div>\n",
       "<style scoped>\n",
       "    .dataframe tbody tr th:only-of-type {\n",
       "        vertical-align: middle;\n",
       "    }\n",
       "\n",
       "    .dataframe tbody tr th {\n",
       "        vertical-align: top;\n",
       "    }\n",
       "\n",
       "    .dataframe thead th {\n",
       "        text-align: right;\n",
       "    }\n",
       "</style>\n",
       "<table border=\"1\" class=\"dataframe\">\n",
       "  <thead>\n",
       "    <tr style=\"text-align: right;\">\n",
       "      <th></th>\n",
       "      <th>rate_marriage</th>\n",
       "      <th>age</th>\n",
       "      <th>yrs_married</th>\n",
       "      <th>children</th>\n",
       "      <th>religious</th>\n",
       "      <th>educ</th>\n",
       "      <th>occupation</th>\n",
       "      <th>occupation_husb</th>\n",
       "      <th>affairs</th>\n",
       "    </tr>\n",
       "  </thead>\n",
       "  <tbody>\n",
       "    <tr>\n",
       "      <th>0</th>\n",
       "      <td>3.0</td>\n",
       "      <td>32.0</td>\n",
       "      <td>9.0</td>\n",
       "      <td>3.0</td>\n",
       "      <td>3.0</td>\n",
       "      <td>17.0</td>\n",
       "      <td>2.0</td>\n",
       "      <td>5.0</td>\n",
       "      <td>0.111111</td>\n",
       "    </tr>\n",
       "    <tr>\n",
       "      <th>1</th>\n",
       "      <td>3.0</td>\n",
       "      <td>27.0</td>\n",
       "      <td>13.0</td>\n",
       "      <td>3.0</td>\n",
       "      <td>1.0</td>\n",
       "      <td>14.0</td>\n",
       "      <td>3.0</td>\n",
       "      <td>4.0</td>\n",
       "      <td>3.230769</td>\n",
       "    </tr>\n",
       "    <tr>\n",
       "      <th>2</th>\n",
       "      <td>4.0</td>\n",
       "      <td>22.0</td>\n",
       "      <td>2.5</td>\n",
       "      <td>0.0</td>\n",
       "      <td>1.0</td>\n",
       "      <td>16.0</td>\n",
       "      <td>3.0</td>\n",
       "      <td>5.0</td>\n",
       "      <td>1.400000</td>\n",
       "    </tr>\n",
       "    <tr>\n",
       "      <th>3</th>\n",
       "      <td>4.0</td>\n",
       "      <td>37.0</td>\n",
       "      <td>16.5</td>\n",
       "      <td>4.0</td>\n",
       "      <td>3.0</td>\n",
       "      <td>16.0</td>\n",
       "      <td>5.0</td>\n",
       "      <td>5.0</td>\n",
       "      <td>0.727273</td>\n",
       "    </tr>\n",
       "    <tr>\n",
       "      <th>4</th>\n",
       "      <td>5.0</td>\n",
       "      <td>27.0</td>\n",
       "      <td>9.0</td>\n",
       "      <td>1.0</td>\n",
       "      <td>1.0</td>\n",
       "      <td>14.0</td>\n",
       "      <td>3.0</td>\n",
       "      <td>4.0</td>\n",
       "      <td>4.666666</td>\n",
       "    </tr>\n",
       "  </tbody>\n",
       "</table>\n",
       "</div>"
      ],
      "text/plain": [
       "   rate_marriage   age  yrs_married  children  religious  educ  occupation  \\\n",
       "0            3.0  32.0          9.0       3.0        3.0  17.0         2.0   \n",
       "1            3.0  27.0         13.0       3.0        1.0  14.0         3.0   \n",
       "2            4.0  22.0          2.5       0.0        1.0  16.0         3.0   \n",
       "3            4.0  37.0         16.5       4.0        3.0  16.0         5.0   \n",
       "4            5.0  27.0          9.0       1.0        1.0  14.0         3.0   \n",
       "\n",
       "   occupation_husb   affairs  \n",
       "0              5.0  0.111111  \n",
       "1              4.0  3.230769  \n",
       "2              5.0  1.400000  \n",
       "3              5.0  0.727273  \n",
       "4              4.0  4.666666  "
      ]
     },
     "execution_count": 3,
     "metadata": {},
     "output_type": "execute_result"
    }
   ],
   "source": [
    "dta.head()"
   ]
  },
  {
   "cell_type": "code",
   "execution_count": 6,
   "metadata": {},
   "outputs": [
    {
     "data": {
      "text/plain": [
       "array([1., 1., 1., ..., 0., 0., 0.])"
      ]
     },
     "execution_count": 6,
     "metadata": {},
     "output_type": "execute_result"
    }
   ],
   "source": [
    "# add \"affair\" column: 1 represents having affairs, 0 represents not\n",
    "dta['affair'] = (dta.affairs > 0).astype(int)\n",
    "y, X = dmatrices('affair ~ rate_marriage + age + yrs_married + children + \\\n",
    "religious + educ + C(occupation) + C(occupation_husb)',\n",
    "dta, return_type=\"dataframe\")\n",
    "\n",
    "X = X.rename(columns = {'C(occupation)[T.2.0]':'occ_2',\n",
    "'C(occupation)[T.3.0]':'occ_3',\n",
    "'C(occupation)[T.4.0]':'occ_4',\n",
    "'C(occupation)[T.5.0]':'occ_5',\n",
    "'C(occupation)[T.6.0]':'occ_6',\n",
    "'C(occupation_husb)[T.2.0]':'occ_husb_2',\n",
    "'C(occupation_husb)[T.3.0]':'occ_husb_3',\n",
    "'C(occupation_husb)[T.4.0]':'occ_husb_4',\n",
    "'C(occupation_husb)[T.5.0]':'occ_husb_5',\n",
    "'C(occupation_husb)[T.6.0]':'occ_husb_6'})\n",
    "y = np.ravel(y)\n",
    "y"
   ]
  },
  {
   "cell_type": "code",
   "execution_count": 7,
   "metadata": {},
   "outputs": [
    {
     "data": {
      "text/plain": [
       "rate_marriage      0\n",
       "age                0\n",
       "yrs_married        0\n",
       "children           0\n",
       "religious          0\n",
       "educ               0\n",
       "occupation         0\n",
       "occupation_husb    0\n",
       "affairs            0\n",
       "affair             0\n",
       "dtype: int64"
      ]
     },
     "execution_count": 7,
     "metadata": {},
     "output_type": "execute_result"
    }
   ],
   "source": [
    "dta.isnull().sum()"
   ]
  },
  {
   "cell_type": "code",
   "execution_count": 8,
   "metadata": {},
   "outputs": [
    {
     "name": "stdout",
     "output_type": "stream",
     "text": [
      "<class 'pandas.core.frame.DataFrame'>\n",
      "RangeIndex: 6366 entries, 0 to 6365\n",
      "Data columns (total 10 columns):\n",
      "rate_marriage      6366 non-null float64\n",
      "age                6366 non-null float64\n",
      "yrs_married        6366 non-null float64\n",
      "children           6366 non-null float64\n",
      "religious          6366 non-null float64\n",
      "educ               6366 non-null float64\n",
      "occupation         6366 non-null float64\n",
      "occupation_husb    6366 non-null float64\n",
      "affairs            6366 non-null float64\n",
      "affair             6366 non-null int32\n",
      "dtypes: float64(9), int32(1)\n",
      "memory usage: 472.6 KB\n"
     ]
    }
   ],
   "source": [
    "dta.info()"
   ]
  },
  {
   "cell_type": "code",
   "execution_count": 10,
   "metadata": {},
   "outputs": [
    {
     "data": {
      "text/html": [
       "<div>\n",
       "<style scoped>\n",
       "    .dataframe tbody tr th:only-of-type {\n",
       "        vertical-align: middle;\n",
       "    }\n",
       "\n",
       "    .dataframe tbody tr th {\n",
       "        vertical-align: top;\n",
       "    }\n",
       "\n",
       "    .dataframe thead th {\n",
       "        text-align: right;\n",
       "    }\n",
       "</style>\n",
       "<table border=\"1\" class=\"dataframe\">\n",
       "  <thead>\n",
       "    <tr style=\"text-align: right;\">\n",
       "      <th></th>\n",
       "      <th>rate_marriage</th>\n",
       "      <th>age</th>\n",
       "      <th>yrs_married</th>\n",
       "      <th>children</th>\n",
       "      <th>religious</th>\n",
       "      <th>educ</th>\n",
       "      <th>occupation</th>\n",
       "      <th>occupation_husb</th>\n",
       "      <th>affairs</th>\n",
       "      <th>affair</th>\n",
       "    </tr>\n",
       "  </thead>\n",
       "  <tbody>\n",
       "    <tr>\n",
       "      <th>0</th>\n",
       "      <td>3.0</td>\n",
       "      <td>32.0</td>\n",
       "      <td>9.0</td>\n",
       "      <td>3.0</td>\n",
       "      <td>3.0</td>\n",
       "      <td>17.0</td>\n",
       "      <td>2.0</td>\n",
       "      <td>5.0</td>\n",
       "      <td>1</td>\n",
       "      <td>1</td>\n",
       "    </tr>\n",
       "    <tr>\n",
       "      <th>1</th>\n",
       "      <td>3.0</td>\n",
       "      <td>27.0</td>\n",
       "      <td>13.0</td>\n",
       "      <td>3.0</td>\n",
       "      <td>1.0</td>\n",
       "      <td>14.0</td>\n",
       "      <td>3.0</td>\n",
       "      <td>4.0</td>\n",
       "      <td>1</td>\n",
       "      <td>1</td>\n",
       "    </tr>\n",
       "    <tr>\n",
       "      <th>2</th>\n",
       "      <td>4.0</td>\n",
       "      <td>22.0</td>\n",
       "      <td>2.5</td>\n",
       "      <td>0.0</td>\n",
       "      <td>1.0</td>\n",
       "      <td>16.0</td>\n",
       "      <td>3.0</td>\n",
       "      <td>5.0</td>\n",
       "      <td>1</td>\n",
       "      <td>1</td>\n",
       "    </tr>\n",
       "    <tr>\n",
       "      <th>3</th>\n",
       "      <td>4.0</td>\n",
       "      <td>37.0</td>\n",
       "      <td>16.5</td>\n",
       "      <td>4.0</td>\n",
       "      <td>3.0</td>\n",
       "      <td>16.0</td>\n",
       "      <td>5.0</td>\n",
       "      <td>5.0</td>\n",
       "      <td>1</td>\n",
       "      <td>1</td>\n",
       "    </tr>\n",
       "    <tr>\n",
       "      <th>4</th>\n",
       "      <td>5.0</td>\n",
       "      <td>27.0</td>\n",
       "      <td>9.0</td>\n",
       "      <td>1.0</td>\n",
       "      <td>1.0</td>\n",
       "      <td>14.0</td>\n",
       "      <td>3.0</td>\n",
       "      <td>4.0</td>\n",
       "      <td>1</td>\n",
       "      <td>1</td>\n",
       "    </tr>\n",
       "  </tbody>\n",
       "</table>\n",
       "</div>"
      ],
      "text/plain": [
       "   rate_marriage   age  yrs_married  children  religious  educ  occupation  \\\n",
       "0            3.0  32.0          9.0       3.0        3.0  17.0         2.0   \n",
       "1            3.0  27.0         13.0       3.0        1.0  14.0         3.0   \n",
       "2            4.0  22.0          2.5       0.0        1.0  16.0         3.0   \n",
       "3            4.0  37.0         16.5       4.0        3.0  16.0         5.0   \n",
       "4            5.0  27.0          9.0       1.0        1.0  14.0         3.0   \n",
       "\n",
       "   occupation_husb  affairs  affair  \n",
       "0              5.0        1       1  \n",
       "1              4.0        1       1  \n",
       "2              5.0        1       1  \n",
       "3              5.0        1       1  \n",
       "4              4.0        1       1  "
      ]
     },
     "execution_count": 10,
     "metadata": {},
     "output_type": "execute_result"
    }
   ],
   "source": [
    "dta['affairs'] = (dta['affairs']>0).astype(int)\n",
    "dta.head()"
   ]
  },
  {
   "cell_type": "code",
   "execution_count": 17,
   "metadata": {},
   "outputs": [],
   "source": [
    "y, X = dmatrices('affair ~ rate_marriage + age + yrs_married + children + religious + educ + C(occupation) + C(occupation_husb)', dta, return_type=\"dataframe\")"
   ]
  },
  {
   "cell_type": "code",
   "execution_count": 23,
   "metadata": {},
   "outputs": [],
   "source": [
    "X = X.rename(columns = {'C(occupation)[T.2.0]':'occ_2',\n",
    "'C(occupation)[T.3.0]':'occ_3',\n",
    "'C(occupation)[T.4.0]':'occ_4',\n",
    "'C(occupation)[T.5.0]':'occ_5',\n",
    "'C(occupation)[T.6.0]':'occ_6',\n",
    "'C(occupation_husb)[T.2.0]':'occ_husb_2',\n",
    "'C(occupation_husb)[T.3.0]':'occ_husb_3',\n",
    "'C(occupation_husb)[T.4.0]':'occ_husb_4',\n",
    "'C(occupation_husb)[T.5.0]':'occ_husb_5',\n",
    "'C(occupation_husb)[T.6.0]':'occ_husb_6'})\n",
    "y = np.ravel(y)"
   ]
  },
  {
   "cell_type": "code",
   "execution_count": 25,
   "metadata": {},
   "outputs": [
    {
     "data": {
      "text/plain": [
       "array([1., 1., 1., ..., 0., 0., 0.])"
      ]
     },
     "execution_count": 25,
     "metadata": {},
     "output_type": "execute_result"
    }
   ],
   "source": [
    "y"
   ]
  },
  {
   "cell_type": "code",
   "execution_count": 27,
   "metadata": {},
   "outputs": [
    {
     "name": "stdout",
     "output_type": "stream",
     "text": [
      "Optimization terminated successfully.\n",
      "         Current function value: 0.542911\n",
      "         Iterations 6\n"
     ]
    }
   ],
   "source": [
    "# fit model\n",
    "logit = sm.Logit(y, X)\n",
    "result = logit.fit()"
   ]
  },
  {
   "cell_type": "code",
   "execution_count": 28,
   "metadata": {},
   "outputs": [
    {
     "data": {
      "text/html": [
       "<table class=\"simpletable\">\n",
       "<tr>\n",
       "        <td>Model:</td>              <td>Logit</td>      <td>Pseudo R-squared:</td>    <td>0.137</td>   \n",
       "</tr>\n",
       "<tr>\n",
       "  <td>Dependent Variable:</td>         <td>y</td>              <td>AIC:</td>         <td>6946.3465</td> \n",
       "</tr>\n",
       "<tr>\n",
       "         <td>Date:</td>        <td>2019-04-22 22:17</td>       <td>BIC:</td>         <td>7061.2449</td> \n",
       "</tr>\n",
       "<tr>\n",
       "   <td>No. Observations:</td>        <td>6366</td>        <td>Log-Likelihood:</td>    <td>-3456.2</td>  \n",
       "</tr>\n",
       "<tr>\n",
       "       <td>Df Model:</td>             <td>16</td>            <td>LL-Null:</td>        <td>-4002.5</td>  \n",
       "</tr>\n",
       "<tr>\n",
       "     <td>Df Residuals:</td>          <td>6349</td>         <td>LLR p-value:</td>    <td>1.5339e-222</td>\n",
       "</tr>\n",
       "<tr>\n",
       "      <td>Converged:</td>           <td>1.0000</td>           <td>Scale:</td>         <td>1.0000</td>   \n",
       "</tr>\n",
       "<tr>\n",
       "    <td>No. Iterations:</td>        <td>6.0000</td>              <td></td>               <td></td>      \n",
       "</tr>\n",
       "</table>\n",
       "<table class=\"simpletable\">\n",
       "<tr>\n",
       "        <td></td>         <th>Coef.</th>  <th>Std.Err.</th>     <th>z</th>     <th>P>|z|</th> <th>[0.025</th>  <th>0.975]</th> \n",
       "</tr>\n",
       "<tr>\n",
       "  <th>Intercept</th>     <td>2.9708</td>   <td>0.5722</td>   <td>5.1917</td>  <td>0.0000</td> <td>1.8492</td>  <td>4.0923</td> \n",
       "</tr>\n",
       "<tr>\n",
       "  <th>occ_2</th>         <td>0.3902</td>   <td>0.4476</td>   <td>0.8719</td>  <td>0.3832</td> <td>-0.4869</td> <td>1.2674</td> \n",
       "</tr>\n",
       "<tr>\n",
       "  <th>occ_3</th>         <td>0.7027</td>   <td>0.4415</td>   <td>1.5917</td>  <td>0.1114</td> <td>-0.1626</td> <td>1.5679</td> \n",
       "</tr>\n",
       "<tr>\n",
       "  <th>occ_4</th>         <td>0.4714</td>   <td>0.4425</td>   <td>1.0652</td>  <td>0.2868</td> <td>-0.3959</td> <td>1.3387</td> \n",
       "</tr>\n",
       "<tr>\n",
       "  <th>occ_5</th>         <td>1.0542</td>   <td>0.4466</td>   <td>2.3603</td>  <td>0.0183</td> <td>0.1788</td>  <td>1.9296</td> \n",
       "</tr>\n",
       "<tr>\n",
       "  <th>occ_6</th>         <td>1.1080</td>   <td>0.4942</td>   <td>2.2420</td>  <td>0.0250</td> <td>0.1394</td>  <td>2.0767</td> \n",
       "</tr>\n",
       "<tr>\n",
       "  <th>occ_husb_2</th>    <td>0.1704</td>   <td>0.1861</td>   <td>0.9160</td>  <td>0.3597</td> <td>-0.1943</td> <td>0.5352</td> \n",
       "</tr>\n",
       "<tr>\n",
       "  <th>occ_husb_3</th>    <td>0.2842</td>   <td>0.2022</td>   <td>1.4057</td>  <td>0.1598</td> <td>-0.1121</td> <td>0.6804</td> \n",
       "</tr>\n",
       "<tr>\n",
       "  <th>occ_husb_4</th>    <td>0.1428</td>   <td>0.1810</td>   <td>0.7892</td>  <td>0.4300</td> <td>-0.2119</td> <td>0.4976</td> \n",
       "</tr>\n",
       "<tr>\n",
       "  <th>occ_husb_5</th>    <td>0.1723</td>   <td>0.1826</td>   <td>0.9436</td>  <td>0.3454</td> <td>-0.1856</td> <td>0.5303</td> \n",
       "</tr>\n",
       "<tr>\n",
       "  <th>occ_husb_6</th>    <td>0.1828</td>   <td>0.2037</td>   <td>0.8974</td>  <td>0.3695</td> <td>-0.2164</td> <td>0.5819</td> \n",
       "</tr>\n",
       "<tr>\n",
       "  <th>rate_marriage</th> <td>-0.7102</td>  <td>0.0315</td>  <td>-22.5600</td> <td>0.0000</td> <td>-0.7719</td> <td>-0.6485</td>\n",
       "</tr>\n",
       "<tr>\n",
       "  <th>age</th>           <td>-0.0613</td>  <td>0.0103</td>   <td>-5.9361</td> <td>0.0000</td> <td>-0.0815</td> <td>-0.0410</td>\n",
       "</tr>\n",
       "<tr>\n",
       "  <th>yrs_married</th>   <td>0.1080</td>   <td>0.0110</td>   <td>9.8364</td>  <td>0.0000</td> <td>0.0865</td>  <td>0.1295</td> \n",
       "</tr>\n",
       "<tr>\n",
       "  <th>children</th>      <td>0.0156</td>   <td>0.0321</td>   <td>0.4881</td>  <td>0.6255</td> <td>-0.0472</td> <td>0.0785</td> \n",
       "</tr>\n",
       "<tr>\n",
       "  <th>religious</th>     <td>-0.3754</td>  <td>0.0349</td>  <td>-10.7657</td> <td>0.0000</td> <td>-0.4437</td> <td>-0.3070</td>\n",
       "</tr>\n",
       "<tr>\n",
       "  <th>educ</th>          <td>-0.0017</td>  <td>0.0174</td>   <td>-0.0992</td> <td>0.9210</td> <td>-0.0358</td> <td>0.0324</td> \n",
       "</tr>\n",
       "</table>"
      ],
      "text/plain": [
       "<class 'statsmodels.iolib.summary2.Summary'>\n",
       "\"\"\"\n",
       "                          Results: Logit\n",
       "==================================================================\n",
       "Model:              Logit            Pseudo R-squared: 0.137      \n",
       "Dependent Variable: y                AIC:              6946.3465  \n",
       "Date:               2019-04-22 22:17 BIC:              7061.2449  \n",
       "No. Observations:   6366             Log-Likelihood:   -3456.2    \n",
       "Df Model:           16               LL-Null:          -4002.5    \n",
       "Df Residuals:       6349             LLR p-value:      1.5339e-222\n",
       "Converged:          1.0000           Scale:            1.0000     \n",
       "No. Iterations:     6.0000                                        \n",
       "------------------------------------------------------------------\n",
       "                   Coef.  Std.Err.    z     P>|z|   [0.025  0.975]\n",
       "------------------------------------------------------------------\n",
       "Intercept          2.9708   0.5722   5.1917 0.0000  1.8492  4.0923\n",
       "occ_2              0.3902   0.4476   0.8719 0.3832 -0.4869  1.2674\n",
       "occ_3              0.7027   0.4415   1.5917 0.1114 -0.1626  1.5679\n",
       "occ_4              0.4714   0.4425   1.0652 0.2868 -0.3959  1.3387\n",
       "occ_5              1.0542   0.4466   2.3603 0.0183  0.1788  1.9296\n",
       "occ_6              1.1080   0.4942   2.2420 0.0250  0.1394  2.0767\n",
       "occ_husb_2         0.1704   0.1861   0.9160 0.3597 -0.1943  0.5352\n",
       "occ_husb_3         0.2842   0.2022   1.4057 0.1598 -0.1121  0.6804\n",
       "occ_husb_4         0.1428   0.1810   0.7892 0.4300 -0.2119  0.4976\n",
       "occ_husb_5         0.1723   0.1826   0.9436 0.3454 -0.1856  0.5303\n",
       "occ_husb_6         0.1828   0.2037   0.8974 0.3695 -0.2164  0.5819\n",
       "rate_marriage     -0.7102   0.0315 -22.5600 0.0000 -0.7719 -0.6485\n",
       "age               -0.0613   0.0103  -5.9361 0.0000 -0.0815 -0.0410\n",
       "yrs_married        0.1080   0.0110   9.8364 0.0000  0.0865  0.1295\n",
       "children           0.0156   0.0321   0.4881 0.6255 -0.0472  0.0785\n",
       "religious         -0.3754   0.0349 -10.7657 0.0000 -0.4437 -0.3070\n",
       "educ              -0.0017   0.0174  -0.0992 0.9210 -0.0358  0.0324\n",
       "==================================================================\n",
       "\n",
       "\"\"\""
      ]
     },
     "execution_count": 28,
     "metadata": {},
     "output_type": "execute_result"
    }
   ],
   "source": [
    "# model summary\n",
    "result.summary2()"
   ]
  },
  {
   "cell_type": "code",
   "execution_count": 30,
   "metadata": {},
   "outputs": [
    {
     "name": "stderr",
     "output_type": "stream",
     "text": [
      "C:\\Users\\user\\Anaconda3\\lib\\site-packages\\sklearn\\linear_model\\logistic.py:433: FutureWarning: Default solver will be changed to 'lbfgs' in 0.22. Specify a solver to silence this warning.\n",
      "  FutureWarning)\n"
     ]
    }
   ],
   "source": [
    "# fit model\n",
    "model = LogisticRegression()\n",
    "model = model.fit(X, y)"
   ]
  },
  {
   "cell_type": "code",
   "execution_count": 32,
   "metadata": {},
   "outputs": [
    {
     "data": {
      "text/plain": [
       "0.7258875274897895"
      ]
     },
     "execution_count": 32,
     "metadata": {},
     "output_type": "execute_result"
    }
   ],
   "source": [
    "# Model accuracy\n",
    "model.score(X, y)"
   ]
  },
  {
   "cell_type": "code",
   "execution_count": 33,
   "metadata": {},
   "outputs": [
    {
     "data": {
      "text/plain": [
       "0.3224945020420987"
      ]
     },
     "execution_count": 33,
     "metadata": {},
     "output_type": "execute_result"
    }
   ],
   "source": [
    "y.mean()"
   ]
  },
  {
   "cell_type": "code",
   "execution_count": 35,
   "metadata": {},
   "outputs": [
    {
     "name": "stdout",
     "output_type": "stream",
     "text": [
      "[[ 1.48983589  0.18806639  0.49894787  0.25066856  0.83900806  0.83390843\n",
      "   0.19063594  0.29783271  0.16140885  0.18777091  0.19401637 -0.70312336\n",
      "  -0.05841777  0.10567654  0.01691927 -0.37113627  0.0040165 ]]\n",
      "[1.48983589]\n"
     ]
    }
   ],
   "source": [
    "print(model.coef_)\n",
    "print(model.intercept_)"
   ]
  },
  {
   "cell_type": "code",
   "execution_count": 37,
   "metadata": {},
   "outputs": [
    {
     "name": "stdout",
     "output_type": "stream",
     "text": [
      "('Intercept', [1.489835891324933])\n",
      "('occ_2', [0.18806639024440983])\n",
      "('occ_3', [0.4989478668156914])\n",
      "('occ_4', [0.25066856498524825])\n",
      "('occ_5', [0.8390080648117001])\n",
      "('occ_6', [0.8339084337443315])\n",
      "('occ_husb_2', [0.1906359445867889])\n",
      "('occ_husb_3', [0.2978327129263421])\n",
      "('occ_husb_4', [0.1614088540760616])\n",
      "('occ_husb_5', [0.18777091388972483])\n",
      "('occ_husb_6', [0.19401637225511495])\n",
      "('rate_marriage', [-0.7031233597323255])\n",
      "('age', [-0.05841777448168919])\n",
      "('yrs_married', [0.10567653799735635])\n",
      "('children', [0.016919266970905608])\n",
      "('religious', [-0.3711362653137546])\n",
      "('educ', [0.00401650319563816])\n"
     ]
    }
   ],
   "source": [
    "# examine the coefficients\n",
    "for el in zip(X.columns, np.transpose(model.coef_).tolist()):\n",
    "    print(el)"
   ]
  },
  {
   "cell_type": "code",
   "execution_count": 39,
   "metadata": {},
   "outputs": [],
   "source": [
    "x_train, x_test, y_train, y_test = train_test_split(X, y, test_size=0.3, random_state=0)"
   ]
  },
  {
   "cell_type": "code",
   "execution_count": 41,
   "metadata": {},
   "outputs": [
    {
     "data": {
      "text/plain": [
       "((4456, 17), (1910, 17), (1910,), (1910,))"
      ]
     },
     "execution_count": 41,
     "metadata": {},
     "output_type": "execute_result"
    }
   ],
   "source": [
    "x_train.shape, x_test.shape, y_test.shape, y_test.shape"
   ]
  },
  {
   "cell_type": "code",
   "execution_count": 51,
   "metadata": {},
   "outputs": [
    {
     "data": {
      "text/plain": [
       "array([1., 0., 0., ..., 0., 0., 0.])"
      ]
     },
     "execution_count": 51,
     "metadata": {},
     "output_type": "execute_result"
    }
   ],
   "source": [
    "y_pred = model.predict(x_test)\n",
    "y_pred"
   ]
  },
  {
   "cell_type": "code",
   "execution_count": 50,
   "metadata": {},
   "outputs": [
    {
     "data": {
      "text/plain": [
       "array([[0.34304301, 0.65695699],\n",
       "       [0.90808777, 0.09191223],\n",
       "       [0.7384556 , 0.2615444 ],\n",
       "       ...,\n",
       "       [0.58000259, 0.41999741],\n",
       "       [0.82206596, 0.17793404],\n",
       "       [0.75523253, 0.24476747]])"
      ]
     },
     "execution_count": 50,
     "metadata": {},
     "output_type": "execute_result"
    }
   ],
   "source": [
    "y_prob = model.predict_proba(x_test)\n",
    "y_prob"
   ]
  },
  {
   "cell_type": "code",
   "execution_count": 52,
   "metadata": {},
   "outputs": [
    {
     "name": "stdout",
     "output_type": "stream",
     "text": [
      "0.7324607329842932\n",
      "0.7492935451201826\n"
     ]
    }
   ],
   "source": [
    "print(metrics.accuracy_score(y_test, y_pred))\n",
    "print(metrics.roc_auc_score(y_test, y_prob[:, 1]))"
   ]
  },
  {
   "cell_type": "code",
   "execution_count": 62,
   "metadata": {},
   "outputs": [
    {
     "data": {
      "text/plain": [
       "(array([0.71943574, 0.70219436, 0.73981191, 0.70597484, 0.70440252,\n",
       "        0.73113208, 0.73427673, 0.70440252, 0.75314465, 0.74685535]),\n",
       " 0.7241630685514876)"
      ]
     },
     "execution_count": 62,
     "metadata": {},
     "output_type": "execute_result"
    }
   ],
   "source": [
    "scores = cross_val_score(LogisticRegression(solver='lbfgs', multi_class='auto', max_iter=5000), X, y, scoring='accuracy', cv=10)\n",
    "scores, scores.mean()"
   ]
  },
  {
   "cell_type": "code",
   "execution_count": 55,
   "metadata": {},
   "outputs": [
    {
     "data": {
      "text/plain": [
       "array([[0.77472221, 0.22527779]])"
      ]
     },
     "execution_count": 55,
     "metadata": {},
     "output_type": "execute_result"
    }
   ],
   "source": [
    "model.predict_proba(np.array([[1, 0, 0, 1, 0, 0, 1, 0, 0, 0, 0, 3, 25, 3, 1, 4, 16]]))"
   ]
  }
 ],
 "metadata": {
  "kernelspec": {
   "display_name": "Python 3",
   "language": "python",
   "name": "python3"
  },
  "language_info": {
   "codemirror_mode": {
    "name": "ipython",
    "version": 3
   },
   "file_extension": ".py",
   "mimetype": "text/x-python",
   "name": "python",
   "nbconvert_exporter": "python",
   "pygments_lexer": "ipython3",
   "version": "3.7.0"
  }
 },
 "nbformat": 4,
 "nbformat_minor": 2
}
